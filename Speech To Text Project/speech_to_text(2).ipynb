{
 "cells": [
  {
   "cell_type": "code",
   "execution_count": 2,
   "id": "894d030d",
   "metadata": {},
   "outputs": [],
   "source": [
    "import speech_recognition as sr\n",
    "from pydub import AudioSegment"
   ]
  },
  {
   "cell_type": "code",
   "execution_count": 3,
   "id": "87b04db6",
   "metadata": {},
   "outputs": [],
   "source": [
    "def audio_to_text(audio_file):\n",
    "    audio=AudioSegment.from_file(audio_file)\n",
    "    wav_file=\"temp.wav\"\n",
    "    audio.export(wav_file,format=\"wav\")\n",
    "    recognizer=sr.Recognizer()\n",
    "    with sr.AudioFile(wav_file)as file:\n",
    "        audio_data=recognizer.record(file)\n",
    "        try:\n",
    "            text=recognizer.recognize_google(audio_data)\n",
    "            return text\n",
    "        except sr.UnknownValueError:\n",
    "            return \"sorry, i could not understand the audio\"\n",
    "        except sr.RequestError as e:\n",
    "            return f\"Could not request result:{e}\""
   ]
  },
  {
   "cell_type": "code",
   "execution_count": 7,
   "id": "fbe840c6",
   "metadata": {},
   "outputs": [
    {
     "name": "stdout",
     "output_type": "stream",
     "text": [
      "for loop is used to perform the iteration whereas while loop does not perform the iteration for loop is used with list tuple dictionary whereas we cannot use the while loop on list set and dictionary\n"
     ]
    }
   ],
   "source": [
    "if __name__==\"__main__\":\n",
    "    audio_file=\"C:/Users/dipse/OneDrive/Desktop/data science/5th sem/Speech To Text Project/temp.wav\"\n",
    "    result=audio_to_text(audio_file)\n",
    "    print(result)"
   ]
  },
  {
   "cell_type": "code",
   "execution_count": null,
   "id": "369448be",
   "metadata": {},
   "outputs": [],
   "source": []
  }
 ],
 "metadata": {
  "kernelspec": {
   "display_name": "Python 3",
   "language": "python",
   "name": "python3"
  },
  "language_info": {
   "codemirror_mode": {
    "name": "ipython",
    "version": 3
   },
   "file_extension": ".py",
   "mimetype": "text/x-python",
   "name": "python",
   "nbconvert_exporter": "python",
   "pygments_lexer": "ipython3",
   "version": "3.11.4"
  }
 },
 "nbformat": 4,
 "nbformat_minor": 5
}
