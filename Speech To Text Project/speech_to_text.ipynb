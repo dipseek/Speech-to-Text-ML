{
 "cells": [
  {
   "cell_type": "code",
   "execution_count": 3,
   "id": "e39f4c10",
   "metadata": {},
   "outputs": [],
   "source": [
    "import speech_recognition as sr"
   ]
  },
  {
   "cell_type": "code",
   "execution_count": 4,
   "id": "0b37340c",
   "metadata": {},
   "outputs": [
    {
     "data": {
      "text/html": [
       "<div>\n",
       "<style scoped>\n",
       "    .dataframe tbody tr th:only-of-type {\n",
       "        vertical-align: middle;\n",
       "    }\n",
       "\n",
       "    .dataframe tbody tr th {\n",
       "        vertical-align: top;\n",
       "    }\n",
       "\n",
       "    .dataframe thead th {\n",
       "        text-align: right;\n",
       "    }\n",
       "</style>\n",
       "<table border=\"1\" class=\"dataframe\">\n",
       "  <thead>\n",
       "    <tr style=\"text-align: right;\">\n",
       "      <th></th>\n",
       "      <th>sr_no</th>\n",
       "      <th>question</th>\n",
       "      <th>ans</th>\n",
       "      <th>ans1</th>\n",
       "    </tr>\n",
       "  </thead>\n",
       "  <tbody>\n",
       "    <tr>\n",
       "      <th>0</th>\n",
       "      <td>1.0</td>\n",
       "      <td>What is Python? List some popular applications...</td>\n",
       "      <td>Python is a widely-used general-purpose, high-...</td>\n",
       "      <td>Python is a widely-used general-purpose, high-...</td>\n",
       "    </tr>\n",
       "    <tr>\n",
       "      <th>1</th>\n",
       "      <td>2.0</td>\n",
       "      <td>What are the benefits of using Python language...</td>\n",
       "      <td>Object-Oriented Language\\nHigh-Level Language\\...</td>\n",
       "      <td>Object-Oriented Language\\nHigh-Level Language\\...</td>\n",
       "    </tr>\n",
       "    <tr>\n",
       "      <th>2</th>\n",
       "      <td>3.0</td>\n",
       "      <td>What is the difference between a Mutable datat...</td>\n",
       "      <td>Mutable data types can be edited i.e., they ca...</td>\n",
       "      <td>Mutable data types can be edited i.e., they ca...</td>\n",
       "    </tr>\n",
       "    <tr>\n",
       "      <th>3</th>\n",
       "      <td>4.0</td>\n",
       "      <td>What is the difference between a Set and Dicti...</td>\n",
       "      <td>The set is an unordered collection of data typ...</td>\n",
       "      <td>The set is an unordered collection of data typ...</td>\n",
       "    </tr>\n",
       "    <tr>\n",
       "      <th>4</th>\n",
       "      <td>5.0</td>\n",
       "      <td>What is a pass in Python?</td>\n",
       "      <td>Pass means performing no operation or in other...</td>\n",
       "      <td>Pass means performing no operation or in other...</td>\n",
       "    </tr>\n",
       "    <tr>\n",
       "      <th>5</th>\n",
       "      <td>6.0</td>\n",
       "      <td>Difference between for loop and while loop in ...</td>\n",
       "      <td>The for Loop is generally used to iterate th...</td>\n",
       "      <td>The for Loop is generally used to iterate th...</td>\n",
       "    </tr>\n",
       "    <tr>\n",
       "      <th>6</th>\n",
       "      <td>NaN</td>\n",
       "      <td>NaN</td>\n",
       "      <td>NaN</td>\n",
       "      <td>NaN</td>\n",
       "    </tr>\n",
       "  </tbody>\n",
       "</table>\n",
       "</div>"
      ],
      "text/plain": [
       "   sr_no                                           question  \\\n",
       "0    1.0  What is Python? List some popular applications...   \n",
       "1    2.0  What are the benefits of using Python language...   \n",
       "2    3.0  What is the difference between a Mutable datat...   \n",
       "3    4.0  What is the difference between a Set and Dicti...   \n",
       "4    5.0                          What is a pass in Python?   \n",
       "5    6.0  Difference between for loop and while loop in ...   \n",
       "6    NaN                                                NaN   \n",
       "\n",
       "                                                 ans  \\\n",
       "0  Python is a widely-used general-purpose, high-...   \n",
       "1  Object-Oriented Language\\nHigh-Level Language\\...   \n",
       "2  Mutable data types can be edited i.e., they ca...   \n",
       "3  The set is an unordered collection of data typ...   \n",
       "4  Pass means performing no operation or in other...   \n",
       "5  The for Loop is generally used to iterate th...   \n",
       "6                                                NaN   \n",
       "\n",
       "                                                ans1  \n",
       "0  Python is a widely-used general-purpose, high-...  \n",
       "1  Object-Oriented Language\\nHigh-Level Language\\...  \n",
       "2  Mutable data types can be edited i.e., they ca...  \n",
       "3  The set is an unordered collection of data typ...  \n",
       "4  Pass means performing no operation or in other...  \n",
       "5  The for Loop is generally used to iterate th...  \n",
       "6                                                NaN  "
      ]
     },
     "execution_count": 4,
     "metadata": {},
     "output_type": "execute_result"
    }
   ],
   "source": [
    "import pandas as pd\n",
    "df=pd.read_csv(\"question_set.csv\",encoding='ISO-8859-1')\n",
    "df"
   ]
  },
  {
   "cell_type": "code",
   "execution_count": 5,
   "id": "a42e3a7c",
   "metadata": {},
   "outputs": [
    {
     "data": {
      "text/plain": [
       "sr_no       1\n",
       "question    1\n",
       "ans         1\n",
       "ans1        1\n",
       "dtype: int64"
      ]
     },
     "execution_count": 5,
     "metadata": {},
     "output_type": "execute_result"
    }
   ],
   "source": [
    "df.isnull().sum()"
   ]
  },
  {
   "cell_type": "code",
   "execution_count": 6,
   "id": "5183d69d",
   "metadata": {},
   "outputs": [
    {
     "name": "stderr",
     "output_type": "stream",
     "text": [
      "C:\\Users\\dipse\\AppData\\Local\\Temp\\ipykernel_3488\\285520692.py:1: FutureWarning: Setting an item of incompatible dtype is deprecated and will raise an error in a future version of pandas. Value 'Not Mentioned' has dtype incompatible with float64, please explicitly cast to a compatible dtype first.\n",
      "  df.fillna(\"Not Mentioned\",inplace=True)\n"
     ]
    }
   ],
   "source": [
    "df.fillna(\"Not Mentioned\",inplace=True)"
   ]
  },
  {
   "cell_type": "code",
   "execution_count": 7,
   "id": "6c4ba5d8",
   "metadata": {},
   "outputs": [
    {
     "data": {
      "text/plain": [
       "sr_no       0\n",
       "question    0\n",
       "ans         0\n",
       "ans1        0\n",
       "dtype: int64"
      ]
     },
     "execution_count": 7,
     "metadata": {},
     "output_type": "execute_result"
    }
   ],
   "source": [
    "df.isnull().sum()"
   ]
  },
  {
   "cell_type": "code",
   "execution_count": 11,
   "id": "3da2781c",
   "metadata": {},
   "outputs": [],
   "source": [
    "from nltk import word_tokenize\n",
    "from nltk.corpus import stopwords\n",
    "from nltk.stem import PorterStemmer"
   ]
  },
  {
   "cell_type": "code",
   "execution_count": 12,
   "id": "bd2bda11",
   "metadata": {},
   "outputs": [],
   "source": [
    "def preprocess_text(text):\n",
    "    text=text.lower()\n",
    "    words=word_tokenize(text)\n",
    "    stop_word=set(stopwords.words('english'))\n",
    "    words=[i for i in words if i not in stop_word]\n",
    "    stemmer=PorterStemmer()\n",
    "    words=[stemmer.stem(i) for i in words]\n",
    "    preprocessed_text=' '.join(words)\n",
    "    return preprocessed_text"
   ]
  },
  {
   "cell_type": "code",
   "execution_count": null,
   "id": "ef0d36f3",
   "metadata": {},
   "outputs": [
    {
     "data": {
      "text/plain": [
       "'dipseek work data scientist .'"
      ]
     },
     "execution_count": 13,
     "metadata": {},
     "output_type": "execute_result"
    }
   ],
   "source": [
    "s=\"I am Dipseek working as Data Scientist.\" #testing above fun\n",
    "preprocess_text(s)"
   ]
  },
  {
   "cell_type": "code",
   "execution_count": 14,
   "id": "39914ab5",
   "metadata": {},
   "outputs": [
    {
     "data": {
      "text/html": [
       "<div>\n",
       "<style scoped>\n",
       "    .dataframe tbody tr th:only-of-type {\n",
       "        vertical-align: middle;\n",
       "    }\n",
       "\n",
       "    .dataframe tbody tr th {\n",
       "        vertical-align: top;\n",
       "    }\n",
       "\n",
       "    .dataframe thead th {\n",
       "        text-align: right;\n",
       "    }\n",
       "</style>\n",
       "<table border=\"1\" class=\"dataframe\">\n",
       "  <thead>\n",
       "    <tr style=\"text-align: right;\">\n",
       "      <th></th>\n",
       "      <th>sr_no</th>\n",
       "      <th>question</th>\n",
       "      <th>ans</th>\n",
       "      <th>ans1</th>\n",
       "    </tr>\n",
       "  </thead>\n",
       "  <tbody>\n",
       "    <tr>\n",
       "      <th>0</th>\n",
       "      <td>1.0</td>\n",
       "      <td>What is Python? List some popular applications...</td>\n",
       "      <td>Python is a widely-used general-purpose, high-...</td>\n",
       "      <td>python widely-us general-purpos , high-level p...</td>\n",
       "    </tr>\n",
       "  </tbody>\n",
       "</table>\n",
       "</div>"
      ],
      "text/plain": [
       "  sr_no                                           question  \\\n",
       "0   1.0  What is Python? List some popular applications...   \n",
       "\n",
       "                                                 ans  \\\n",
       "0  Python is a widely-used general-purpose, high-...   \n",
       "\n",
       "                                                ans1  \n",
       "0  python widely-us general-purpos , high-level p...  "
      ]
     },
     "execution_count": 14,
     "metadata": {},
     "output_type": "execute_result"
    }
   ],
   "source": [
    "df['ans1']=df['ans1'].apply(preprocess_text)\n",
    "df.head(1)"
   ]
  },
  {
   "cell_type": "code",
   "execution_count": 15,
   "id": "f54c9312",
   "metadata": {},
   "outputs": [],
   "source": [
    "import pickle\n",
    "with open('preprocess_text.pkl','wb')as file:\n",
    "    pickle.dump(df,file)"
   ]
  },
  {
   "cell_type": "code",
   "execution_count": 17,
   "id": "ccba0140",
   "metadata": {},
   "outputs": [],
   "source": [
    "df['question']=df['question'].str.strip() #strip() removes unwanted symbols like /"
   ]
  },
  {
   "cell_type": "code",
   "execution_count": 18,
   "id": "84a79720",
   "metadata": {},
   "outputs": [],
   "source": [
    "from sklearn.feature_extraction.text import TfidfVectorizer\n",
    "from sklearn.metrics.pairwise import cosine_similarity\n",
    "from sentence_transformers import SentenceTransformer, util\n",
    "model=SentenceTransformer('paraphrase-MiniLM-L6-v2')"
   ]
  },
  {
   "cell_type": "code",
   "execution_count": null,
   "id": "069b5584",
   "metadata": {},
   "outputs": [
    {
     "name": "stdout",
     "output_type": "stream",
     "text": [
      "Following are the questions:\n",
      "\n",
      "1. What is Python? List some popular applications of Python in the world of technology.\n",
      "2. What are the benefits of using Python language as a tool in the present scenario?\n",
      "3. What is the difference between a Mutable datatype and an Immutable data type?\n",
      "4. What is the difference between a Set and Dictionary?\n",
      "5. What is a pass in Python?\n",
      "6. Difference between for loop and while loop in Python\n",
      "7. Not Mentioned\n",
      "\n",
      " Question Number: 1\n",
      "Question: What is Python? List some popular applications of Python in the world of technology.\n",
      "Actual Ans: Python is a widely-used general-purpose, high-level programming language. It was created by Guido van Rossum in 1991 and further developed by the Python Software Foundation. It was designed with an emphasis on code readability, and its syntax allows programmers to express their concepts in fewer lines of code.\n",
      "\n",
      " Your Ans: python is high lever programming language\n",
      "55% your answer is correct.\n"
     ]
    }
   ],
   "source": [
    "def suggest_section_for_selected_question(ans,df,question_index):\n",
    "\n",
    "    #preprocess the user's ans\n",
    "    preprocessed_ans=preprocess_text(ans)\n",
    "    ans_embedding=model.encode(preprocessed_ans)\n",
    "\n",
    "    #get the actual ans for the selected question\n",
    "    actual_ans=df.iloc[question_index]['ans']\n",
    "    preprocessed_actual_ans=preprocess_text(actual_ans)\n",
    "    actual_ans_embedding=model.encode(preprocessed_actual_ans)\n",
    "\n",
    "    #compute the similarity between user's ans and actual ans\n",
    "    similarity_score=util.pytorch_cos_sim(ans_embedding,actual_ans_embedding)[0][0].item()\n",
    "\n",
    "    return{\n",
    "        'question': df.iloc[question_index]['question'],\n",
    "        'actual_ans':actual_ans,\n",
    "        'similarity_score':similarity_score\n",
    "    }\n",
    "\n",
    "#display the list of questions\n",
    "print(\"Following are the questions:\\n\")\n",
    "for idx, question in enumerate(df['question'],1):\n",
    "    print(f\"{idx}. {question}\")\n",
    "\n",
    "#ask the user to choose the question\n",
    "n=int(input(\"Which question number you want to answer?\"))\n",
    "\n",
    "#get the user's ans\n",
    "ans=input(\"Enter your answer: \")\n",
    "\n",
    "#get the suggestion for the selected question\n",
    "suggestion=suggest_section_for_selected_question(ans,df,n-1)\n",
    "\n",
    "#display the result\n",
    "if suggestion:\n",
    "    print(f\"\\n Question Number: {n}\")\n",
    "    print(f\"Question: {suggestion['question']}\")\n",
    "    print(f\"Actual Ans: {suggestion['actual_ans']}\")\n",
    "    print(f\"\\n Your Ans: {ans}\")\n",
    "    print(f\"{round(suggestion['similarity_score']*100)}% your answer is correct.\")\n",
    "      \n"
   ]
  },
  {
   "cell_type": "code",
   "execution_count": 26,
   "id": "7b27a758",
   "metadata": {},
   "outputs": [
    {
     "data": {
      "text/plain": [
       "'for loop is used to perform the iteration whereas while loop does not perform the iteration for loop is used with list tuple dictionary whereas we cannot use the while loop on list set and dictionary'"
      ]
     },
     "execution_count": 26,
     "metadata": {},
     "output_type": "execute_result"
    }
   ],
   "source": [
    "import application as ap\n",
    "ap.audio_to_text(\"C:/Users/dipse/OneDrive/Desktop/data science/5th sem/Speech To Text Project/temp.wav\")"
   ]
  }
 ],
 "metadata": {
  "kernelspec": {
   "display_name": "Python 3",
   "language": "python",
   "name": "python3"
  },
  "language_info": {
   "codemirror_mode": {
    "name": "ipython",
    "version": 3
   },
   "file_extension": ".py",
   "mimetype": "text/x-python",
   "name": "python",
   "nbconvert_exporter": "python",
   "pygments_lexer": "ipython3",
   "version": "3.11.4"
  }
 },
 "nbformat": 4,
 "nbformat_minor": 5
}
